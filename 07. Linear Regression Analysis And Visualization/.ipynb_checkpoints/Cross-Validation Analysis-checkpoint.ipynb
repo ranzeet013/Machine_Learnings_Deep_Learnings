{
 "cells": [
  {
   "cell_type": "markdown",
   "id": "166c7e8d",
   "metadata": {},
   "source": [
    "Conducting k-fold cross-validation with k=5, which trains a Linear Regression model on different subsets of the data. It evaluates the model's performance using metrics like Mean Squared Error (MSE), normalized MSE (NMSE), and R-squared (R2) for each fold. The results are systematically recorded in a DataFrame, `cross_val_metrics`, facilitating a thorough analysis of the model's consistency and generalization across diverse data splits."
   ]
  },
  {
   "cell_type": "code",
   "execution_count": 3,
   "id": "63305ca5",
   "metadata": {},
   "outputs": [
    {
     "name": "stdout",
     "output_type": "stream",
     "text": [
      "Split 1: \n",
      "\tTest Folds: [1] \n",
      "\tTrain Folds [2, 3, 4, 5]\n",
      "\tMSE: 15.126 NMSE: 0.156 R2: 0.844\n",
      "Split 2: \n",
      "\tTest Folds: [2] \n",
      "\tTrain Folds [1, 3, 4, 5]\n",
      "\tMSE: 12.915 NMSE: 0.186 R2: 0.814\n",
      "Split 3: \n",
      "\tTest Folds: [3] \n",
      "\tTrain Folds [1, 2, 4, 5]\n",
      "\tMSE: 15.121 NMSE: 0.205 R2: 0.795\n",
      "Split 4: \n",
      "\tTest Folds: [4] \n",
      "\tTrain Folds [1, 2, 3, 5]\n",
      "\tMSE: 13.265 NMSE: 0.170 R2: 0.830\n",
      "Split 5: \n",
      "\tTest Folds: [5] \n",
      "\tTrain Folds [1, 2, 3, 4]\n",
      "\tMSE: 13.932 NMSE: 0.189 R2: 0.811\n"
     ]
    }
   ],
   "source": [
    "cross_val_metrics = pd.DataFrame(columns=['MSE', 'norm_MSE', 'R2'])\n",
    "\n",
    "kf = KFold(n_splits=5)\n",
    "i=1\n",
    "for train_index, test_index in kf.split(X_train):\n",
    "    print('Split {}: \\n\\tTest Folds: [{}] \\n\\tTrain Folds {}'.format(i, i, [j for j in range(1,6) if j != i]));\n",
    "    \n",
    "    x_train_fold = X_train.values[train_index]\n",
    "    y_train_fold = y_train.values[train_index]\n",
    "    x_test_fold = X_train.values[test_index,:]\n",
    "    y_test_fold = y_train.values[test_index]\n",
    "    \n",
    "    lr = LinearRegression().fit(x_train_fold,y_train_fold)\n",
    "    y_pred_fold = lr.predict(x_test_fold)\n",
    "    fold_mse =mean_squared_error(y_test_fold, y_pred_fold)\n",
    "    fold_nmse =  1-r2_score(y_test_fold, y_pred_fold)\n",
    "    fold_r2 = r2_score(y_test_fold, y_pred_fold)\n",
    "    print(f'\\tMSE: {fold_mse:3.3f} NMSE: {fold_nmse:3.3f} R2: {fold_r2:3.3f}')\n",
    "\n",
    "    cross_val_metrics.loc[f'Fold {i}', :] = [fold_mse,fold_nmse, fold_r2]\n",
    "    i = i + 1"
   ]
  },
  {
   "cell_type": "code",
   "execution_count": 4,
   "id": "ccc0a577",
   "metadata": {},
   "outputs": [
    {
     "data": {
      "text/html": [
       "<div>\n",
       "<style scoped>\n",
       "    .dataframe tbody tr th:only-of-type {\n",
       "        vertical-align: middle;\n",
       "    }\n",
       "\n",
       "    .dataframe tbody tr th {\n",
       "        vertical-align: top;\n",
       "    }\n",
       "\n",
       "    .dataframe thead th {\n",
       "        text-align: right;\n",
       "    }\n",
       "</style>\n",
       "<table border=\"1\" class=\"dataframe\">\n",
       "  <thead>\n",
       "    <tr style=\"text-align: right;\">\n",
       "      <th></th>\n",
       "      <th>MSE</th>\n",
       "      <th>norm_MSE</th>\n",
       "      <th>R2</th>\n",
       "    </tr>\n",
       "  </thead>\n",
       "  <tbody>\n",
       "    <tr>\n",
       "      <th>Fold 1</th>\n",
       "      <td>15.125774</td>\n",
       "      <td>0.156393</td>\n",
       "      <td>0.843607</td>\n",
       "    </tr>\n",
       "    <tr>\n",
       "      <th>Fold 2</th>\n",
       "      <td>12.915315</td>\n",
       "      <td>0.185853</td>\n",
       "      <td>0.814147</td>\n",
       "    </tr>\n",
       "    <tr>\n",
       "      <th>Fold 3</th>\n",
       "      <td>15.1209</td>\n",
       "      <td>0.205437</td>\n",
       "      <td>0.794563</td>\n",
       "    </tr>\n",
       "    <tr>\n",
       "      <th>Fold 4</th>\n",
       "      <td>13.264579</td>\n",
       "      <td>0.169535</td>\n",
       "      <td>0.830465</td>\n",
       "    </tr>\n",
       "    <tr>\n",
       "      <th>Fold 5</th>\n",
       "      <td>13.932224</td>\n",
       "      <td>0.189038</td>\n",
       "      <td>0.810962</td>\n",
       "    </tr>\n",
       "    <tr>\n",
       "      <th>Mean</th>\n",
       "      <td>14.071759</td>\n",
       "      <td>0.181251</td>\n",
       "      <td>0.818749</td>\n",
       "    </tr>\n",
       "  </tbody>\n",
       "</table>\n",
       "</div>"
      ],
      "text/plain": [
       "              MSE  norm_MSE        R2\n",
       "Fold 1  15.125774  0.156393  0.843607\n",
       "Fold 2  12.915315  0.185853  0.814147\n",
       "Fold 3    15.1209  0.205437  0.794563\n",
       "Fold 4  13.264579  0.169535  0.830465\n",
       "Fold 5  13.932224  0.189038  0.810962\n",
       "Mean    14.071759  0.181251  0.818749"
      ]
     },
     "execution_count": 4,
     "metadata": {},
     "output_type": "execute_result"
    }
   ],
   "source": [
    "cross_val_metrics.loc['Mean',:] = cross_val_metrics.mean()\n",
    "\n",
    "cross_val_metrics"
   ]
  },
  {
   "cell_type": "code",
   "execution_count": null,
   "id": "24f71bf5",
   "metadata": {},
   "outputs": [],
   "source": []
  }
 ],
 "metadata": {
  "kernelspec": {
   "display_name": "Python 3 (ipykernel)",
   "language": "python",
   "name": "python3"
  },
  "language_info": {
   "codemirror_mode": {
    "name": "ipython",
    "version": 3
   },
   "file_extension": ".py",
   "mimetype": "text/x-python",
   "name": "python",
   "nbconvert_exporter": "python",
   "pygments_lexer": "ipython3",
   "version": "3.11.3"
  }
 },
 "nbformat": 4,
 "nbformat_minor": 5
}
