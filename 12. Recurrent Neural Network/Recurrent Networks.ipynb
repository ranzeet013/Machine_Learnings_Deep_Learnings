{
 "cells": [
  {
   "cell_type": "code",
   "execution_count": 1,
   "id": "ab64ea50",
   "metadata": {},
   "outputs": [
    {
     "name": "stdout",
     "output_type": "stream",
     "text": [
      "WARNING:tensorflow:From C:\\Users\\DELL\\AppData\\Local\\Programs\\Python\\Python311\\Lib\\site-packages\\keras\\src\\losses.py:2976: The name tf.losses.sparse_softmax_cross_entropy is deprecated. Please use tf.compat.v1.losses.sparse_softmax_cross_entropy instead.\n",
      "\n"
     ]
    }
   ],
   "source": [
    "from keras.datasets import imdb\n",
    "import numpy as np\n",
    "import matplotlib.pyplot as plt\n",
    "%matplotlib inline\n",
    "\n",
    "import seaborn as sns\n",
    "sns.set()"
   ]
  },
  {
   "cell_type": "code",
   "execution_count": 4,
   "id": "6ec03935",
   "metadata": {},
   "outputs": [
    {
     "name": "stderr",
     "output_type": "stream",
     "text": [
      "C:\\Users\\DELL\\AppData\\Local\\Temp\\ipykernel_13440\\414789252.py:2: UserWarning: \n",
      "\n",
      "`distplot` is a deprecated function and will be removed in seaborn v0.14.0.\n",
      "\n",
      "Please adapt your code to use either `displot` (a figure-level function with\n",
      "similar flexibility) or `histplot` (an axes-level function for histograms).\n",
      "\n",
      "For a guide to updating your code to use the new functions, please see\n",
      "https://gist.github.com/mwaskom/de44147ed2974457ad6372750bbe5751\n",
      "\n",
      "  sns.distplot(lens)\n"
     ]
    },
    {
     "name": "stdout",
     "output_type": "stream",
     "text": [
      "467.0\n"
     ]
    },
    {
     "data": {
      "image/png": "[encoded data removed]",
      "text/plain": [
       "<Figure size 640x480 with 1 Axes>"
      ]
     },
     "metadata": {},
     "output_type": "display_data"
    }
   ],
   "source": [
    "lens = [len(x) for x in X]\n",
    "sns.distplot(lens)\n",
    "print(np.percentile(lens, 90))"
   ]
  },
  {
   "cell_type": "code",
   "execution_count": 3,
   "id": "13ec483a",
   "metadata": {},
   "outputs": [],
   "source": [
    "vocab_size = 10000\n",
    "embedding_dim = 50 \n",
    "\n",
    "(x, y), _ = imdb.load_data(num_words=vocab_size)"
   ]
  },
  {
   "cell_type": "code",
   "execution_count": 6,
   "id": "138be3f7",
   "metadata": {},
   "outputs": [],
   "source": [
    "from keras.preprocessing import sequence\n",
    "\n",
    "maxlen = 500\n",
    "x = sequence.pad_sequences(x, maxlen=maxlen)"
   ]
  },
  {
   "cell_type": "markdown",
   "id": "f94f3ed2",
   "metadata": {},
   "source": [
    "Creating an RNN model sequentially starting with an embedding layer, the vocabulary size and embedding dimensions. LSTM layer is added with the embedding dimension as its input size. Lastly, a dense layer with a single neuron and a sigmoid activation function is included. "
   ]
  },
  {
   "cell_type": "code",
   "execution_count": 7,
   "id": "d05eee13",
   "metadata": {},
   "outputs": [
    {
     "name": "stdout",
     "output_type": "stream",
     "text": [
      "WARNING:tensorflow:From C:\\Users\\DELL\\AppData\\Local\\Programs\\Python\\Python311\\Lib\\site-packages\\keras\\src\\backend.py:873: The name tf.get_default_graph is deprecated. Please use tf.compat.v1.get_default_graph instead.\n",
      "\n",
      "Model: \"sequential\"\n",
      "_________________________________________________________________\n",
      " Layer (type)                Output Shape              Param #   \n",
      "=================================================================\n",
      " embedding (Embedding)       (None, None, 50)          500000    \n",
      "                                                                 \n",
      " lstm (LSTM)                 (None, 50)                20200     \n",
      "                                                                 \n",
      " dense (Dense)               (None, 1)                 51        \n",
      "                                                                 \n",
      "=================================================================\n",
      "Total params: 520251 (1.98 MB)\n",
      "Trainable params: 520251 (1.98 MB)\n",
      "Non-trainable params: 0 (0.00 Byte)\n",
      "_________________________________________________________________\n"
     ]
    }
   ],
   "source": [
    "from keras.layers import LSTM, Dense, Embedding\n",
    "from keras.models import Sequential\n",
    "\n",
    "RNN = Sequential([\n",
    "    Embedding(vocab_size, embedding_dim), \n",
    "    LSTM(embedding_dim), \n",
    "    Dense(1, activation='sigmoid')\n",
    "])\n",
    "\n",
    "RNN.summary()"
   ]
  },
  {
   "cell_type": "markdown",
   "id": "842ec33c",
   "metadata": {},
   "source": [
    "Compiling the RNN model with the optimizer as 'adam', the loss function as 'binary_crossentropy', and the metric for evaluation as accuracy ('acc'). Training the model using the `fit` method with input data `x` and corresponding labels `y`, running for 5 epochs and utilizing a validation split of 10%. "
   ]
  },
  {
   "cell_type": "code",
   "execution_count": 9,
   "id": "278b1d34",
   "metadata": {},
   "outputs": [
    {
     "name": "stdout",
     "output_type": "stream",
     "text": [
      "Epoch 1/5\n",
      "WARNING:tensorflow:From C:\\Users\\DELL\\AppData\\Local\\Programs\\Python\\Python311\\Lib\\site-packages\\keras\\src\\utils\\tf_utils.py:492: The name tf.ragged.RaggedTensorValue is deprecated. Please use tf.compat.v1.ragged.RaggedTensorValue instead.\n",
      "\n",
      "WARNING:tensorflow:From C:\\Users\\DELL\\AppData\\Local\\Programs\\Python\\Python311\\Lib\\site-packages\\keras\\src\\engine\\base_layer_utils.py:384: The name tf.executing_eagerly_outside_functions is deprecated. Please use tf.compat.v1.executing_eagerly_outside_functions instead.\n",
      "\n",
      "704/704 [==============================] - 222s 305ms/step - loss: 0.4115 - acc: 0.8075 - val_loss: 0.3798 - val_acc: 0.8340\n",
      "Epoch 2/5\n",
      "704/704 [==============================] - 216s 306ms/step - loss: 0.3341 - acc: 0.8646 - val_loss: 0.3477 - val_acc: 0.8640\n",
      "Epoch 3/5\n",
      "704/704 [==============================] - 213s 302ms/step - loss: 0.2297 - acc: 0.9123 - val_loss: 0.3517 - val_acc: 0.8564\n",
      "Epoch 4/5\n",
      "704/704 [==============================] - 219s 311ms/step - loss: 0.1815 - acc: 0.9343 - val_loss: 0.3277 - val_acc: 0.8736\n",
      "Epoch 5/5\n",
      "704/704 [==============================] - 242s 344ms/step - loss: 0.1612 - acc: 0.9405 - val_loss: 0.4374 - val_acc: 0.8556\n"
     ]
    }
   ],
   "source": [
    "RNN.compile(optimizer='adam', loss='binary_crossentropy', \n",
    "            metrics=['acc'])\n",
    "\n",
    "history = RNN.fit(x, y, epochs=5, \n",
    "                  validation_split=0.1)"
   ]
  },
  {
   "cell_type": "code",
   "execution_count": null,
   "id": "3d4cec96",
   "metadata": {},
   "outputs": [],
   "source": []
  }
 ],
 "metadata": {
  "kernelspec": {
   "display_name": "Python 3 (ipykernel)",
   "language": "python",
   "name": "python3"
  },
  "language_info": {
   "codemirror_mode": {
    "name": "ipython",
    "version": 3
   },
   "file_extension": ".py",
   "mimetype": "text/x-python",
   "name": "python",
   "nbconvert_exporter": "python",
   "pygments_lexer": "ipython3",
   "version": "3.11.3"
  }
 },
 "nbformat": 4,
 "nbformat_minor": 5
}
